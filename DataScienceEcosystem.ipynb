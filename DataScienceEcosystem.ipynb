{
  "nbformat": 4,
  "nbformat_minor": 0,
  "metadata": {
    "colab": {
      "provenance": []
    },
    "kernelspec": {
      "name": "python3",
      "display_name": "Python 3"
    },
    "language_info": {
      "name": "python"
    }
  },
  "cells": [
    {
      "cell_type": "markdown",
      "source": [
        "# Data Science Tools and Ecosystem"
      ],
      "metadata": {
        "id": "9dh8XvKn1Ji-"
      }
    },
    {
      "cell_type": "markdown",
      "source": [
        "In this notebook, Data Science Tools and Ecosystem are summarized."
      ],
      "metadata": {
        "id": "XI1NHf2n3odB"
      }
    },
    {
      "cell_type": "markdown",
      "source": [
        "**Objectives:**\n",
        "- List popular languages for Data Science\n",
        "- List commonly used libraries used by Data Scientists\n",
        "- List popular Data Science tools"
      ],
      "metadata": {
        "id": "rONejZmo9WQj"
      }
    },
    {
      "cell_type": "markdown",
      "source": [
        "Some of the popular languages that Data Scientists use are:\n",
        "1. Python\n",
        "2. R\n",
        "3. SQL\n",
        "4. SAS\n",
        "5. JavaScript\n",
        "6. Julia\n",
        "7. Scala"
      ],
      "metadata": {
        "id": "JV6kBpWV4HD_"
      }
    },
    {
      "cell_type": "markdown",
      "source": [
        "Some of the commonly used libraries used by Data Scientists include:\n",
        "\n",
        "1. NumPy\n",
        "2. Pandas\n",
        "3. Scikit-learn\n",
        "4. Matplotlib\n",
        "5. SciPy\n",
        "6. TensorFlow"
      ],
      "metadata": {
        "id": "wNPTOISs5F_n"
      }
    },
    {
      "cell_type": "markdown",
      "source": [
        "| Data Science Tools |\n",
        "| ------|\n",
        "| GitHub |\n",
        "| R Studio |\n",
        "| Jupyter Notebooks |"
      ],
      "metadata": {
        "id": "8ZvFuPdi5wVh"
      }
    },
    {
      "cell_type": "markdown",
      "source": [
        "### Below are a few examples of evaluating arithmetic expressions in Python"
      ],
      "metadata": {
        "id": "8kfF-8gL6I72"
      }
    },
    {
      "cell_type": "code",
      "source": [
        "# This a simple arithmetic expression to mutiply then add integers\n",
        "(3*4)+5"
      ],
      "metadata": {
        "colab": {
          "base_uri": "https://localhost:8080/"
        },
        "id": "zMZrURTH6uNc",
        "outputId": "d17d478b-1035-489b-d8d7-c0b81ddebc09"
      },
      "execution_count": 3,
      "outputs": [
        {
          "output_type": "execute_result",
          "data": {
            "text/plain": [
              "17"
            ]
          },
          "metadata": {},
          "execution_count": 3
        }
      ]
    },
    {
      "cell_type": "code",
      "source": [
        "# This will convert 200 minutes to hours by dividing by 60\n",
        "200/60"
      ],
      "metadata": {
        "colab": {
          "base_uri": "https://localhost:8080/"
        },
        "id": "gB4GWXQu6H3e",
        "outputId": "a51f7f12-b1c5-44da-81ea-b014378086b7"
      },
      "execution_count": 4,
      "outputs": [
        {
          "output_type": "execute_result",
          "data": {
            "text/plain": [
              "3.3333333333333335"
            ]
          },
          "metadata": {},
          "execution_count": 4
        }
      ]
    },
    {
      "cell_type": "markdown",
      "source": [
        "## Author\n",
        "Patrycja Cwiek"
      ],
      "metadata": {
        "id": "Hr9krHy8BOen"
      }
    },
    {
      "cell_type": "code",
      "source": [],
      "metadata": {
        "id": "2ITYJ_rO7sX3"
      },
      "execution_count": null,
      "outputs": []
    }
  ]
}